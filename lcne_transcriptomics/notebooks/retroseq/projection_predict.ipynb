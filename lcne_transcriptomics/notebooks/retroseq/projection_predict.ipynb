{
 "cells": [
  {
   "cell_type": "code",
   "execution_count": 27,
   "id": "05ebc3d4-14b0-45a0-b423-5d2271ae10b8",
   "metadata": {},
   "outputs": [
    {
     "name": "stdout",
     "output_type": "stream",
     "text": [
      "The autoreload extension is already loaded. To reload it, use:\n",
      "  %reload_ext autoreload\n"
     ]
    }
   ],
   "source": [
    "%load_ext autoreload\n",
    "%autoreload 2\n",
    "import sys\n",
    "import os\n",
    "notebook_dir = os.path.dirname(os.path.abspath(''))\n",
    "if notebook_dir not in sys.path:\n",
    "    sys.path.append(os.path.dirname(notebook_dir))\n",
    "from notebooks.config import *\n",
    "configure_matplotlib()\n",
    "SAVE_FIGURES = True\n",
    "fig_path = RETROSEQ_FIGURE_DIR\n",
    "from functools import partial\n",
    "save_figure = partial(save_figure, dir_path=fig_path)\n",
    "cpm_scl = CPM_SCL"
   ]
  },
  {
   "cell_type": "code",
   "execution_count": 42,
   "id": "bb5259a2-35e3-4993-a2b7-83e7a36ab2c5",
   "metadata": {},
   "outputs": [
    {
     "name": "stdout",
     "output_type": "stream",
     "text": [
      "The autoreload extension is already loaded. To reload it, use:\n",
      "  %reload_ext autoreload\n",
      "scanpy version: 1.11.3\n",
      "scvi version: 1.3.3\n"
     ]
    }
   ],
   "source": [
    "%load_ext autoreload\n",
    "%autoreload 2\n",
    "import numpy as np\n",
    "import pandas as pd\n",
    "import matplotlib.pyplot as plt\n",
    "import glob, os, sys\n",
    "import scanpy as sc\n",
    "from sklearn.pipeline import Pipeline\n",
    "from sklearn.preprocessing import StandardScaler\n",
    "from sklearn.model_selection import GridSearchCV, StratifiedKFold\n",
    "from sklearn.metrics import accuracy_score, classification_report, confusion_matrix\n",
    "from sklearn.linear_model import LogisticRegression\n",
    "from sklearn.ensemble import RandomForestClassifier\n",
    "from sklearn.svm import SVC\n",
    "from sklearn.neighbors import KNeighborsClassifier\n",
    "\n",
    "import processing, utils, plotting, heatmap\n",
    "import pseudoclusters, test_structures\n",
    "print(f\"scanpy version: {sc.__version__}\")\n",
    "print(f\"scvi version: {scvi.__version__}\")"
   ]
  },
  {
   "cell_type": "code",
   "execution_count": 29,
   "id": "a1518e70-d3ea-4041-b795-8c836d8aaa81",
   "metadata": {},
   "outputs": [
    {
     "data": {
      "text/plain": [
       "(567, 1500)"
      ]
     },
     "execution_count": 29,
     "metadata": {},
     "output_type": "execute_result"
    }
   ],
   "source": [
    "savefilename = RETROSEQ_DATA_DIR+\"/retro_BN_d4_1500genes.h5ad\"\n",
    "savefilename = RETROSEQ_DATA_DIR+\"/retroseq_updated_filtered.h5ad\"\n",
    "adata_retro = sc.read_h5ad(savefilename)\n",
    "adata_retro = adata_retro[adata_retro.obs['injection_site'].notna(), :]\n",
    "adata_retro.shape"
   ]
  },
  {
   "cell_type": "code",
   "execution_count": 69,
   "id": "963e1ec7-7881-45e7-94f8-adcde2ef6593",
   "metadata": {},
   "outputs": [
    {
     "data": {
      "text/plain": [
       "7824.0"
      ]
     },
     "execution_count": 69,
     "metadata": {},
     "output_type": "execute_result"
    }
   ],
   "source": [
    "adata_retro.X.max()"
   ]
  },
  {
   "cell_type": "code",
   "execution_count": null,
   "id": "05021b1a-d7a7-48f9-8e56-afd308e0c7e1",
   "metadata": {},
   "outputs": [],
   "source": []
  },
  {
   "cell_type": "code",
   "execution_count": 59,
   "id": "39616106-9d0b-4968-9f8c-412b0ff730be",
   "metadata": {},
   "outputs": [],
   "source": [
    "from sklearn.preprocessing import LabelEncoder\n",
    "# X = adata_retro.layers['BN']\n",
    "X = np.array(adata_retro.X.toarray())\n",
    "scaler = StandardScaler().fit(X)\n",
    "X = scaler.transform(X)\n",
    "\n",
    "le = LabelEncoder()\n",
    "y = le.fit_transform(adata_retro.obs['injection_site'])\n"
   ]
  },
  {
   "cell_type": "code",
   "execution_count": 60,
   "id": "f90c11d7-078e-4d73-9759-607f48230996",
   "metadata": {},
   "outputs": [],
   "source": [
    "X_train, X_temp, y_train, y_temp = train_test_split(\n",
    "    X, y,\n",
    "    test_size=0.40,\n",
    "    stratify=y,\n",
    "    random_state=42\n",
    ")\n",
    "X_val, X_test, y_val, y_test = train_test_split(\n",
    "    X_temp, y_temp,\n",
    "    test_size=0.50,     # half of 40% → 20% each\n",
    "    stratify=y_temp,\n",
    "    random_state=42\n",
    ")\n"
   ]
  },
  {
   "cell_type": "code",
   "execution_count": 61,
   "id": "4b357cbf-80bc-411b-9f94-03f2816be218",
   "metadata": {},
   "outputs": [],
   "source": [
    "# Prepare X/Y lists for convenience\n",
    "X_list = [X_train, X_val, X_test]\n",
    "y_list = [y_train, y_val, y_test]\n"
   ]
  },
  {
   "cell_type": "code",
   "execution_count": 62,
   "id": "b0765066-7b96-4127-ac9d-3e23dd80fac1",
   "metadata": {},
   "outputs": [],
   "source": [
    "# Define a helper to train, validate, and test\n",
    "def fit_and_report(name, X_list, y_list, model, param_grid=None, scale=False):\n",
    "    X_tr, X_val_, X_te = X_list\n",
    "    y_tr, y_val_, y_te = y_list\n",
    "    steps = []\n",
    "    if scale:\n",
    "        steps.append(('scaler', StandardScaler()))\n",
    "    steps.append(('clf', model))\n",
    "    pipe = Pipeline(steps)\n",
    "    # Hyperparameter tuning if grid given\n",
    "    if param_grid is not None:\n",
    "        cv = StratifiedKFold(n_splits=5, shuffle=True, random_state=42)\n",
    "        grid = GridSearchCV(pipe, param_grid, cv=cv, n_jobs=-1, scoring='accuracy')\n",
    "        grid.fit(X_tr, y_tr)\n",
    "        best = grid.best_estimator_\n",
    "        print(f\"{name} best params: {grid.best_params_}\")\n",
    "    else:\n",
    "        best = pipe.fit(X_tr, y_tr)\n",
    "    # Validation\n",
    "    y_val_pred = best.predict(X_val_)\n",
    "    val_acc = accuracy_score(y_val_, y_val_pred)\n",
    "    print(f\"[{name}] Val Accuracy: {val_acc:.4f}\")\n",
    "    # Retrain on train+val then test\n",
    "    best.fit(np.vstack([X_tr, X_val_]), np.concatenate([y_tr, y_val_]))\n",
    "    y_test_pred = best.predict(X_te)\n",
    "    test_acc = accuracy_score(y_te, y_test_pred)\n",
    "    print(f\"[{name}] Test Accuracy: {test_acc:.4f}\\n\")\n",
    "    return name, best, val_acc, test_acc, y_test_pred\n"
   ]
  },
  {
   "cell_type": "code",
   "execution_count": 63,
   "id": "63d2063e-440b-4c89-9dc0-917526ca5787",
   "metadata": {},
   "outputs": [
    {
     "name": "stdout",
     "output_type": "stream",
     "text": [
      "Running LogisticRegression...\n",
      "LogisticRegression best params: {'clf__C': 0.01}\n",
      "[LogisticRegression] Val Accuracy: 0.4956\n",
      "[LogisticRegression] Test Accuracy: 0.5877\n",
      "\n",
      "Running RandomForest...\n",
      "RandomForest best params: {'clf__max_depth': None, 'clf__n_estimators': 200}\n",
      "[RandomForest] Val Accuracy: 0.6106\n",
      "[RandomForest] Test Accuracy: 0.6579\n",
      "\n",
      "Running SVC...\n",
      "SVC best params: {'clf__C': 0.1, 'clf__kernel': 'linear'}\n",
      "[SVC] Val Accuracy: 0.4602\n",
      "[SVC] Test Accuracy: 0.5614\n",
      "\n",
      "Running KNN...\n",
      "KNN best params: {'clf__n_neighbors': 7}\n",
      "[KNN] Val Accuracy: 0.3274\n",
      "[KNN] Test Accuracy: 0.3333\n",
      "\n",
      "Running GradBoost...\n",
      "GradBoost best params: {'clf__learning_rate': 0.1, 'clf__max_depth': 3, 'clf__n_estimators': 200}\n",
      "[GradBoost] Val Accuracy: 0.6726\n",
      "[GradBoost] Test Accuracy: 0.6228\n",
      "\n"
     ]
    },
    {
     "data": {
      "text/html": [
       "<div>\n",
       "<style scoped>\n",
       "    .dataframe tbody tr th:only-of-type {\n",
       "        vertical-align: middle;\n",
       "    }\n",
       "\n",
       "    .dataframe tbody tr th {\n",
       "        vertical-align: top;\n",
       "    }\n",
       "\n",
       "    .dataframe thead th {\n",
       "        text-align: right;\n",
       "    }\n",
       "</style>\n",
       "<table border=\"1\" class=\"dataframe\">\n",
       "  <thead>\n",
       "    <tr style=\"text-align: right;\">\n",
       "      <th></th>\n",
       "      <th>model</th>\n",
       "      <th>val_acc</th>\n",
       "      <th>test_acc</th>\n",
       "    </tr>\n",
       "  </thead>\n",
       "  <tbody>\n",
       "    <tr>\n",
       "      <th>0</th>\n",
       "      <td>LogisticRegression</td>\n",
       "      <td>0.495575</td>\n",
       "      <td>0.587719</td>\n",
       "    </tr>\n",
       "    <tr>\n",
       "      <th>1</th>\n",
       "      <td>RandomForest</td>\n",
       "      <td>0.610619</td>\n",
       "      <td>0.657895</td>\n",
       "    </tr>\n",
       "    <tr>\n",
       "      <th>2</th>\n",
       "      <td>SVC</td>\n",
       "      <td>0.460177</td>\n",
       "      <td>0.561404</td>\n",
       "    </tr>\n",
       "    <tr>\n",
       "      <th>3</th>\n",
       "      <td>KNN</td>\n",
       "      <td>0.327434</td>\n",
       "      <td>0.333333</td>\n",
       "    </tr>\n",
       "    <tr>\n",
       "      <th>4</th>\n",
       "      <td>GradBoost</td>\n",
       "      <td>0.672566</td>\n",
       "      <td>0.622807</td>\n",
       "    </tr>\n",
       "  </tbody>\n",
       "</table>\n",
       "</div>"
      ],
      "text/plain": [
       "                model   val_acc  test_acc\n",
       "0  LogisticRegression  0.495575  0.587719\n",
       "1        RandomForest  0.610619  0.657895\n",
       "2                 SVC  0.460177  0.561404\n",
       "3                 KNN  0.327434  0.333333\n",
       "4           GradBoost  0.672566  0.622807"
      ]
     },
     "metadata": {},
     "output_type": "display_data"
    }
   ],
   "source": [
    "from sklearn.linear_model import LogisticRegression\n",
    "from sklearn.ensemble import RandomForestClassifier, GradientBoostingClassifier\n",
    "from sklearn.svm import SVC\n",
    "from sklearn.neighbors import KNeighborsClassifier\n",
    "\n",
    "# Extend your models dict:\n",
    "models = {\n",
    "    'LogisticRegression': LogisticRegression(max_iter=1000),\n",
    "    'RandomForest':        RandomForestClassifier(),\n",
    "    'SVC':                 SVC(),\n",
    "    'KNN':                 KNeighborsClassifier(),\n",
    "    'GradBoost':           GradientBoostingClassifier(),\n",
    "    # 'XGBoost':             XGBClassifier(use_label_encoder=False, eval_metric='logloss')\n",
    "}\n",
    "\n",
    "# And their parameter grids:\n",
    "param_grids = {\n",
    "    'LogisticRegression': {'clf__C': [0.01, 0.1, 1, 10]},\n",
    "    'RandomForest':       {'clf__n_estimators': [100, 200], 'clf__max_depth': [None, 10, 20]},\n",
    "    'SVC':                {'clf__C': [0.1, 1, 10], 'clf__kernel': ['linear', 'rbf']},\n",
    "    'KNN':                {'clf__n_neighbors': [3, 5, 7]},\n",
    "    'GradBoost':          {\n",
    "        'clf__n_estimators': [100, 200],\n",
    "        'clf__learning_rate':[0.01, 0.1],\n",
    "        'clf__max_depth':    [3, 5]\n",
    "    },\n",
    "    # 'XGBoost':            {\n",
    "    #     'clf__n_estimators': [100, 200],\n",
    "    #     'clf__learning_rate':[0.01, 0.1],\n",
    "    #     'clf__max_depth':    [3, 5]\n",
    "    # }\n",
    "}\n",
    "\n",
    "results = []\n",
    "for name, model in models.items():\n",
    "    print(f\"Running {name}...\")\n",
    "    pg = param_grids.get(name)\n",
    "    m_name, best, val_acc, test_acc, y_pred = fit_and_report(\n",
    "        name, X_list, y_list, model, pg, scale=True\n",
    "    )\n",
    "    results.append({\n",
    "        'model':    m_name,\n",
    "        'val_acc':  val_acc,\n",
    "        'test_acc': test_acc,\n",
    "        'best':     best,\n",
    "        'y_pred':   y_pred\n",
    "    })\n",
    "\n",
    "results_df = pd.DataFrame(results)[['model','val_acc','test_acc']]\n",
    "display(results_df)"
   ]
  },
  {
   "cell_type": "code",
   "execution_count": null,
   "id": "cdc58b62-e2f2-430e-bd12-097408964844",
   "metadata": {},
   "outputs": [],
   "source": []
  },
  {
   "cell_type": "code",
   "execution_count": 64,
   "id": "c5ef1c5c-5fd2-4453-8a5c-a95f7b3291f9",
   "metadata": {},
   "outputs": [
    {
     "data": {
      "image/png": "[encoded data removed]",
      "text/plain": [
       "<Figure size 600x400 with 1 Axes>"
      ]
     },
     "metadata": {},
     "output_type": "display_data"
    }
   ],
   "source": [
    "plt.figure(figsize=(6,4))\n",
    "plt.bar(results_df['model'], results_df['test_acc'])\n",
    "plt.ylim(0,1)\n",
    "plt.ylabel('Test Accuracy')\n",
    "plt.title('Model Comparison')\n",
    "plt.show()\n"
   ]
  },
  {
   "cell_type": "markdown",
   "id": "c6a70109-0eba-4692-8b02-27d02165e21b",
   "metadata": {},
   "source": [
    "# classification report for the best model "
   ]
  },
  {
   "cell_type": "code",
   "execution_count": 65,
   "id": "f3efa78e-b45f-4123-8339-2b3e6d61cb1e",
   "metadata": {},
   "outputs": [
    {
     "name": "stdout",
     "output_type": "stream",
     "text": [
      "Best model: RandomForest\n",
      "                precision    recall  f1-score   support\n",
      "\n",
      "    Cerebellum       0.55      0.79      0.65        42\n",
      "Frontal Cortex       0.75      0.34      0.47        35\n",
      "   Spinal Cord       0.79      0.81      0.80        37\n",
      "\n",
      "      accuracy                           0.66       114\n",
      "     macro avg       0.70      0.65      0.64       114\n",
      "  weighted avg       0.69      0.66      0.64       114\n",
      "\n"
     ]
    }
   ],
   "source": [
    "best_idx = np.argmax([r['test_acc'] for r in results])\n",
    "best_row = results[best_idx]\n",
    "print(f\"Best model: {best_row['model']}\")\n",
    "print(classification_report(y_test, best_row['y_pred'], target_names=le.classes_))\n"
   ]
  },
  {
   "cell_type": "markdown",
   "id": "8cab75ab-6441-4d5f-a406-3e4fd7f8e10c",
   "metadata": {},
   "source": [
    "# accuracy plot"
   ]
  },
  {
   "cell_type": "code",
   "execution_count": 66,
   "id": "a5a0cc51-03e7-44ff-b704-2f1f03a274d3",
   "metadata": {},
   "outputs": [
    {
     "name": "stdout",
     "output_type": "stream",
     "text": [
      "Saving figure to: /root/capsule/lcne_transcriptomics/output/figures/retroseq/confusions.svg\n",
      "Saving figure to: /root/capsule/lcne_transcriptomics/output/figures/retroseq/confusions.png\n"
     ]
    },
    {
     "data": {
      "image/png": "[encoded data removed]",
      "text/plain": [
       "<Figure size 600x600 with 2 Axes>"
      ]
     },
     "metadata": {},
     "output_type": "display_data"
    }
   ],
   "source": [
    "\n",
    "from sklearn.metrics import accuracy_score\n",
    "model_name = 'RandomForest'   # ← change as desired\n",
    "row = next(r for r in results if r['model'] == model_name)\n",
    "y_pred = row['y_pred']\n",
    "cm_full = confusion_matrix(y_test, y_pred)\n",
    "\n",
    "# 3) Define your desired class order\n",
    "new_order = ['Frontal Cortex', 'Cerebellum', 'Spinal Cord']\n",
    "# Map those names back to the integer labels\n",
    "order_idx = [list(le.classes_).index(c) for c in new_order]\n",
    "\n",
    "\n",
    "cm = cm_full[np.ix_(order_idx, order_idx)]\n",
    "cm_pct = cm / cm.sum(axis=1, keepdims=True)\n",
    "overall_acc = accuracy_score(y_test, y_pred)\n",
    "fig, ax = plt.subplots(figsize=(6,6))\n",
    "im = ax.imshow(cm_pct, cmap='Blues', vmin=0, vmax=1)\n",
    "cbar = fig.colorbar(im, ax=ax, fraction=0.046, pad=0.04, shrink = .3)\n",
    "# cbar.set_label('Fraction of true class', rotation=270, labelpad=15)\n",
    "\n",
    "# Tick labels in your new order\n",
    "ax.set_xticks(np.arange(len(new_order)))\n",
    "ax.set_yticks(np.arange(len(new_order)))\n",
    "ax.set_xticklabels(new_order, rotation=45, ha='right')\n",
    "ax.set_yticklabels(new_order)\n",
    "ax.set_ylabel('True label')\n",
    "ax.set_xlabel('Predicted label')\n",
    "\n",
    "# Title with overall accuracy\n",
    "ax.set_title(f'Overall accuracy: {overall_acc:.2%}')\n",
    "\n",
    "# Annotate each cell with its percentage\n",
    "for i in range(len(new_order)):\n",
    "    for j in range(len(new_order)):\n",
    "        fontcol = 'black' if cm_pct[i,j]<.7 else 'white'\n",
    "        ax.text(\n",
    "            j, i,\n",
    "            f\"{cm_pct[i, j]*100:.1f}%\",\n",
    "            ha='center', va='center', color=fontcol)\n",
    "\n",
    "plt.tight_layout()\n",
    "save_figure(\"confusions\")\n",
    "# plt.gcf().set_dpi(300)\n",
    "\n"
   ]
  },
  {
   "cell_type": "code",
   "execution_count": null,
   "id": "cbf4c963-72da-4043-b887-d0103d04268c",
   "metadata": {},
   "outputs": [],
   "source": []
  },
  {
   "cell_type": "code",
   "execution_count": null,
   "id": "1a5d47b6-86c7-494a-ab14-567a44e90f39",
   "metadata": {},
   "outputs": [],
   "source": []
  },
  {
   "cell_type": "code",
   "execution_count": null,
   "id": "64189c5a-2016-4822-ada9-b49a1526be5c",
   "metadata": {},
   "outputs": [],
   "source": []
  },
  {
   "cell_type": "code",
   "execution_count": null,
   "id": "b44587d6-f3a3-40c1-8c0d-a978e61a46d3",
   "metadata": {},
   "outputs": [],
   "source": []
  },
  {
   "cell_type": "code",
   "execution_count": null,
   "id": "89ee2248-e8dc-4f7d-b74a-0edc01e63247",
   "metadata": {},
   "outputs": [],
   "source": []
  }
 ],
 "metadata": {
  "kernelspec": {
   "display_name": "Python 3 (ipykernel)",
   "language": "python",
   "name": "python3"
  },
  "language_info": {
   "codemirror_mode": {
    "name": "ipython",
    "version": 3
   },
   "file_extension": ".py",
   "mimetype": "text/x-python",
   "name": "python",
   "nbconvert_exporter": "python",
   "pygments_lexer": "ipython3",
   "version": "3.12.4"
  }
 },
 "nbformat": 4,
 "nbformat_minor": 5
}
